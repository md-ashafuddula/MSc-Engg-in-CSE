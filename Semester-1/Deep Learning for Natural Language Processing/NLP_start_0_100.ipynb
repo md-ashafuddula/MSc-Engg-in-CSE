{
  "nbformat": 4,
  "nbformat_minor": 0,
  "metadata": {
    "colab": {
      "provenance": []
    },
    "kernelspec": {
      "name": "python3",
      "display_name": "Python 3"
    },
    "accelerator": "GPU"
  },
  "cells": [
    {
      "cell_type": "markdown",
      "source": [
        "**Code created and fully developed by, N. I. Md. Ashafuddula, BSc (RUET) MSc (DUET)**"
      ],
      "metadata": {
        "id": "0RYLlR0LD9rD"
      }
    },
    {
      "cell_type": "code",
      "metadata": {
        "id": "LOqCpXUiFp96",
        "outputId": "7881792a-54f1-49dc-995e-6ea633e4462b",
        "colab": {
          "base_uri": "https://localhost:8080/",
          "height": 573
        }
      },
      "source": [
        "import tensorflow as tf\n",
        "from tensorflow import keras\n",
        "from tensorflow.keras.preprocessing.text import Tokenizer\n",
        "from tensorflow.keras.preprocessing.sequence import pad_sequences\n",
        "\n",
        "sentences= [\n",
        "    'i love my dog',\n",
        "    'I, love my cat',\n",
        "    'You love my dog!',\n",
        "    'What! you love your dog?',\n",
        "    'I thought you love your girlfriend, so your girlfriend is a dog? ha ha ha'\n",
        "]\n",
        "\n",
        "sentencesBn = [\n",
        "               'পথের ধারের খাবারের দোকানে ভিড় করতেন শিক্ষার্থী ও ভোজনরসিক মধ্যবিত্তরা।',\n",
        "               'করোনার কারণে অনেকেই ঘরবন্দী। ব্যবসাও লাটে উঠেছে।',\n",
        "               '‘লোক না থাকলে মাঠা কি মাথায় ঢালব!’ বলেই খটাশ করে লাইন কেটে দিলেন সাদেক।',\n",
        "               'নিউ এলিফ্যান্ট রোডের ফুটপাতে মাঠাবিক্রেতা তিনি',\n",
        "               'কয়েক দিন ঘুরেও তাঁর দেখা পাচ্ছিলাম না।',\n",
        "               'শেষমেশ ফোনে পাওয়া গেল',\n",
        "               'জানতে চাইলাম, এত ভালো মাঠা বানান আপনি, এখন বসছেন না কেন? তার উত্তরেই এই কথা বললেন সাদেক',\n",
        "               'ঢাকা বিশ্ববিদ্যালয়ের টিএসসিতে মরিচের চা দারুণ জনপ্রিয়',\n",
        "               'জ্বাল দেওয়া চা–পাতার সঙ্গে তেঁতুলের ক্বাথ আর কাঁচা মরিচকুচি মিশিয়ে তৈরি হয় এই বিশেষ স্বাদের চা',\n",
        "               '১০ টাকা গ্লাসের এই চায়ের মূল ক্রেতা বিশ্ববিদ্যালয়ের শিক্ষার্থী আর শৌখিন মানুষেরা।',\n",
        "               'ধানমন্ডি ৫ নম্বরের চটপটি-ফুচকা, শিল্পকলার গেটে লুচি-পরোটা, নিউমার্কেটের ভেলপুরি, মিরপুরের খেতাপুরি, মোহাম্মদপুরের মোস্তাকিমের চাপ—নামগুলো ভোজনরসিকদের কাছে অতিপরিচিত',\n",
        "               'এগুলো সবই পথের ধারের খাবার (স্ট্রিট ফুড)।',\n",
        "               'ব্র্যান্ড হয়ে ওঠা এসব দোকানে মূলত ভিড় করতেন শিক্ষার্থী ও ভোজনরসিক মধ্যবিত্ত লোকজন',\n",
        "               'করোনার কারণে যাঁরা অনেকেই ঘরবন্দী।',\n",
        "               'ব্যবসাও তাই লাটে উঠেছে'     \n",
        "]\n",
        "\n",
        "tokenizer = Tokenizer(num_words = 1000, oov_token=\"<OOV>\") #default<OOV = 1>\n",
        "tokenizer.fit_on_texts(sentencesBn)\n",
        "word_index = tokenizer.word_index\n",
        "\n",
        "sequence = tokenizer.texts_to_sequences(sentencesBn)\n",
        "sequence = pad_sequences(sequence, padding= 'post',truncating='post' , maxlen=30) #default<pad = 0>, define vector max length, if greater than maxLen, which part you want to keep = truncating\n",
        "print(word_index)\n",
        "print(sequence)\n",
        "\n",
        "# Try with words that the tokenizer wasn't fit to\n",
        "test_data = [\n",
        "    'i really love my dog', #really\n",
        "    'my dog loves my manatee' #manatee\n",
        "]\n",
        "test_dataBn = [\n",
        "               'করোনা কালের গোড়ায় মার্চের মাঝামাঝিতে খাবারের এসব দোকানপাট বন্ধ হয়ে যায়',\n",
        "               'এখন কিছু কিছু খুলতে শুরু করেছে',\n",
        "               'আবার কিছু দোকান বন্ধ হয়ে গেছে, কোনোটা হয়েছে হাতবদল',\n",
        "               'নতুন করে লড়াইয়ে নেমে অনেক দোকানিরই মনে হচ্ছে, তাঁরা ব্যবসা শুরুর সময়ে ফিরে গেছেন',\n",
        "               'ব্যবসাও তাই লাটে উঠেছে'\n",
        "]\n",
        "#Ragged Tensor to handla different length of sentences in ADVANCE technique\n",
        "#another is padding\n",
        "test_seq = tokenizer.texts_to_sequences(test_dataBn)\n",
        "print(\"\\nTest Sequence = \", test_seq)\n"
      ],
      "execution_count": null,
      "outputs": [
        {
          "output_type": "stream",
          "text": [
            "{'<OOV>': 1, 'শিক্ষার্থী': 2, 'এই': 3, 'পথের': 4, 'ধারের': 5, 'দোকানে': 6, 'ভিড়': 7, 'করতেন': 8, 'ও': 9, 'ভোজনরসিক': 10, 'করোনার': 11, 'কারণে': 12, 'অনেকেই': 13, 'ঘরবন্দী।': 14, 'ব্যবসাও': 15, 'লাটে': 16, 'না': 17, 'মাঠা': 18, 'বিশ্ববিদ্যালয়ের': 19, 'চা': 20, 'আর': 21, 'খাবারের': 22, 'মধ্যবিত্তরা।': 23, 'উঠেছে।': 24, '‘লোক': 25, 'থাকলে': 26, 'কি': 27, 'মাথায়': 28, 'ঢালব': 29, '’': 30, 'বলেই': 31, 'খটাশ': 32, 'করে': 33, 'লাইন': 34, 'কেটে': 35, 'দিলেন': 36, 'সাদেক।': 37, 'নিউ': 38, 'এলিফ্যান্ট': 39, 'রোডের': 40, 'ফুটপাতে': 41, 'মাঠাবিক্রেতা': 42, 'তিনি': 43, 'কয়েক': 44, 'দিন': 45, 'ঘুরেও': 46, 'তাঁর': 47, 'দেখা': 48, 'পাচ্ছিলাম': 49, 'না।': 50, 'শেষমেশ': 51, 'ফোনে': 52, 'পাওয়া': 53, 'গেল': 54, 'জানতে': 55, 'চাইলাম': 56, 'এত': 57, 'ভালো': 58, 'বানান': 59, 'আপনি': 60, 'এখন': 61, 'বসছেন': 62, 'কেন': 63, 'তার': 64, 'উত্তরেই': 65, 'কথা': 66, 'বললেন': 67, 'সাদেক': 68, 'ঢাকা': 69, 'টিএসসিতে': 70, 'মরিচের': 71, 'দারুণ': 72, 'জনপ্রিয়': 73, 'জ্বাল': 74, 'দেওয়া': 75, 'চা–পাতার': 76, 'সঙ্গে': 77, 'তেঁতুলের': 78, 'ক্বাথ': 79, 'কাঁচা': 80, 'মরিচকুচি': 81, 'মিশিয়ে': 82, 'তৈরি': 83, 'হয়': 84, 'বিশেষ': 85, 'স্বাদের': 86, '১০': 87, 'টাকা': 88, 'গ্লাসের': 89, 'চায়ের': 90, 'মূল': 91, 'ক্রেতা': 92, 'শৌখিন': 93, 'মানুষেরা।': 94, 'ধানমন্ডি': 95, '৫': 96, 'নম্বরের': 97, 'চটপটি': 98, 'ফুচকা': 99, 'শিল্পকলার': 100, 'গেটে': 101, 'লুচি': 102, 'পরোটা': 103, 'নিউমার্কেটের': 104, 'ভেলপুরি': 105, 'মিরপুরের': 106, 'খেতাপুরি': 107, 'মোহাম্মদপুরের': 108, 'মোস্তাকিমের': 109, 'চাপ—নামগুলো': 110, 'ভোজনরসিকদের': 111, 'কাছে': 112, 'অতিপরিচিত': 113, 'এগুলো': 114, 'সবই': 115, 'খাবার': 116, 'স্ট্রিট': 117, 'ফুড': 118, '।': 119, 'ব্র্যান্ড': 120, 'হয়ে': 121, 'ওঠা': 122, 'এসব': 123, 'মূলত': 124, 'মধ্যবিত্ত': 125, 'লোকজন': 126, 'যাঁরা': 127, 'তাই': 128, 'উঠেছে': 129}\n",
            "[[  4   5  22   6   7   8   2   9  10  23   0   0   0   0   0   0   0   0\n",
            "    0   0   0   0   0   0   0   0   0   0   0   0]\n",
            " [ 11  12  13  14  15  16  24   0   0   0   0   0   0   0   0   0   0   0\n",
            "    0   0   0   0   0   0   0   0   0   0   0   0]\n",
            " [ 25  17  26  18  27  28  29  30  31  32  33  34  35  36  37   0   0   0\n",
            "    0   0   0   0   0   0   0   0   0   0   0   0]\n",
            " [ 38  39  40  41  42  43   0   0   0   0   0   0   0   0   0   0   0   0\n",
            "    0   0   0   0   0   0   0   0   0   0   0   0]\n",
            " [ 44  45  46  47  48  49  50   0   0   0   0   0   0   0   0   0   0   0\n",
            "    0   0   0   0   0   0   0   0   0   0   0   0]\n",
            " [ 51  52  53  54   0   0   0   0   0   0   0   0   0   0   0   0   0   0\n",
            "    0   0   0   0   0   0   0   0   0   0   0   0]\n",
            " [ 55  56  57  58  18  59  60  61  62  17  63  64  65   3  66  67  68   0\n",
            "    0   0   0   0   0   0   0   0   0   0   0   0]\n",
            " [ 69  19  70  71  20  72  73   0   0   0   0   0   0   0   0   0   0   0\n",
            "    0   0   0   0   0   0   0   0   0   0   0   0]\n",
            " [ 74  75  76  77  78  79  21  80  81  82  83  84   3  85  86  20   0   0\n",
            "    0   0   0   0   0   0   0   0   0   0   0   0]\n",
            " [ 87  88  89   3  90  91  92  19   2  21  93  94   0   0   0   0   0   0\n",
            "    0   0   0   0   0   0   0   0   0   0   0   0]\n",
            " [ 95  96  97  98  99 100 101 102 103 104 105 106 107 108 109 110 111 112\n",
            "  113   0   0   0   0   0   0   0   0   0   0   0]\n",
            " [114 115   4   5 116 117 118 119   0   0   0   0   0   0   0   0   0   0\n",
            "    0   0   0   0   0   0   0   0   0   0   0   0]\n",
            " [120 121 122 123   6 124   7   8   2   9  10 125 126   0   0   0   0   0\n",
            "    0   0   0   0   0   0   0   0   0   0   0   0]\n",
            " [ 11  12 127  13  14   0   0   0   0   0   0   0   0   0   0   0   0   0\n",
            "    0   0   0   0   0   0   0   0   0   0   0   0]\n",
            " [ 15 128  16 129   0   0   0   0   0   0   0   0   0   0   0   0   0   0\n",
            "    0   0   0   0   0   0   0   0   0   0   0   0]]\n",
            "\n",
            "Test Sequence =  [[1, 1, 1, 1, 1, 22, 123, 1, 1, 121, 1], [61, 1, 1, 1, 1, 1], [1, 1, 1, 1, 121, 1, 1, 1, 1], [1, 33, 1, 1, 1, 1, 1, 1, 1, 1, 1, 1, 1, 1], [15, 128, 16, 129]]\n"
          ],
          "name": "stdout"
        }
      ]
    },
    {
      "cell_type": "markdown",
      "metadata": {
        "id": "Sxr4WIr64hwX"
      },
      "source": [
        "#Sentiment Analysis BASIC"
      ]
    },
    {
      "cell_type": "code",
      "metadata": {
        "id": "5XZvrFgd4mBm"
      },
      "source": [
        "# Run this to ensure TensorFlow 2.x is used\n",
        "try:\n",
        "  # %tensorflow_version only exists in Colab.\n",
        "  %tensorflow_version 2.x\n",
        "except Exception:\n",
        "  pass"
      ],
      "execution_count": null,
      "outputs": []
    },
    {
      "cell_type": "code",
      "metadata": {
        "id": "KsZAphNy4tIW"
      },
      "source": [
        "import json\n",
        "import tensorflow as tf\n",
        "\n",
        "from tensorflow.keras.preprocessing.text import Tokenizer\n",
        "from tensorflow.keras.preprocessing.sequence import pad_sequences"
      ],
      "execution_count": null,
      "outputs": []
    },
    {
      "cell_type": "code",
      "metadata": {
        "id": "HEJEPIFQ4wI1"
      },
      "source": [
        "vocab_size = 10000\n",
        "embedding_dim = 20\n",
        "max_length = 100\n",
        "trunc_type='post'\n",
        "padding_type='post'\n",
        "oov_tok = \"<OOV>\"\n",
        "training_size = 20000"
      ],
      "execution_count": null,
      "outputs": []
    },
    {
      "cell_type": "code",
      "metadata": {
        "id": "pWzxsUW34yYD",
        "outputId": "ba7be307-a3b4-4b71-ad5d-35372a694f31",
        "colab": {
          "base_uri": "https://localhost:8080/",
          "height": 196
        }
      },
      "source": [
        "!wget --no-check-certificate \\\n",
        "    https://storage.googleapis.com/laurencemoroney-blog.appspot.com/sarcasm.json \\\n",
        "    -O /tmp/sarcasm.json"
      ],
      "execution_count": null,
      "outputs": [
        {
          "output_type": "stream",
          "text": [
            "--2020-09-26 16:20:28--  https://storage.googleapis.com/laurencemoroney-blog.appspot.com/sarcasm.json\n",
            "Resolving storage.googleapis.com (storage.googleapis.com)... 64.233.188.128, 64.233.189.128, 108.177.125.128, ...\n",
            "Connecting to storage.googleapis.com (storage.googleapis.com)|64.233.188.128|:443... connected.\n",
            "HTTP request sent, awaiting response... 200 OK\n",
            "Length: 5643545 (5.4M) [application/json]\n",
            "Saving to: ‘/tmp/sarcasm.json’\n",
            "\n",
            "\r/tmp/sarcasm.json     0%[                    ]       0  --.-KB/s               \r/tmp/sarcasm.json   100%[===================>]   5.38M  --.-KB/s    in 0.04s   \n",
            "\n",
            "2020-09-26 16:20:28 (124 MB/s) - ‘/tmp/sarcasm.json’ saved [5643545/5643545]\n",
            "\n"
          ],
          "name": "stdout"
        }
      ]
    },
    {
      "cell_type": "code",
      "metadata": {
        "id": "xAoNANbv40f-"
      },
      "source": [
        "with open(\"/tmp/sarcasm.json\", 'r') as f:\n",
        "    datastore = json.load(f)\n",
        "\n",
        "sentences = []\n",
        "labels = []\n",
        "\n",
        "for item in datastore:\n",
        "    sentences.append(item['headline'])\n",
        "    labels.append(item['is_sarcastic'])"
      ],
      "execution_count": null,
      "outputs": []
    },
    {
      "cell_type": "code",
      "metadata": {
        "id": "TpVt91Ac441E"
      },
      "source": [
        "training_sentences = sentences[0:training_size]\n",
        "testing_sentences = sentences[training_size:]\n",
        "training_labels = labels[0:training_size]\n",
        "testing_labels = labels[training_size:]"
      ],
      "execution_count": null,
      "outputs": []
    },
    {
      "cell_type": "code",
      "metadata": {
        "id": "xilc3gwh4_i3"
      },
      "source": [
        "tokenizer = Tokenizer(num_words=vocab_size, oov_token=oov_tok)\n",
        "tokenizer.fit_on_texts(training_sentences)\n",
        "\n",
        "word_index = tokenizer.word_index\n",
        "\n",
        "training_sequences = tokenizer.texts_to_sequences(training_sentences)\n",
        "training_padded = pad_sequences(training_sequences, maxlen=max_length, padding=padding_type, truncating=trunc_type)\n",
        "\n",
        "testing_sequences = tokenizer.texts_to_sequences(testing_sentences)\n",
        "testing_padded = pad_sequences(testing_sequences, maxlen=max_length, padding=padding_type, truncating=trunc_type)"
      ],
      "execution_count": null,
      "outputs": []
    },
    {
      "cell_type": "code",
      "metadata": {
        "id": "Bg2FJl2m5JEs"
      },
      "source": [
        "# Need this block to get it to work with TensorFlow 2.x\n",
        "import numpy as np\n",
        "training_padded = np.array(training_padded)\n",
        "training_labels = np.array(training_labels)\n",
        "testing_padded = np.array(testing_padded)\n",
        "testing_labels = np.array(testing_labels)"
      ],
      "execution_count": null,
      "outputs": []
    },
    {
      "cell_type": "code",
      "metadata": {
        "id": "bl_m4l585NMw",
        "outputId": "28532936-8042-406e-9950-99bd34e8b8f4",
        "colab": {
          "base_uri": "https://localhost:8080/",
          "height": 277
        }
      },
      "source": [
        "model = tf.keras.Sequential([\n",
        "    tf.keras.layers.Embedding(vocab_size, embedding_dim, input_length=max_length),\n",
        "    tf.keras.layers.GlobalAveragePooling1D(),\n",
        "    tf.keras.layers.Dense(24, activation='relu'),\n",
        "    tf.keras.layers.Dense(1, activation='sigmoid')\n",
        "])\n",
        "model.compile(loss='binary_crossentropy',optimizer='adam',metrics=['accuracy'])\n",
        "model.summary()"
      ],
      "execution_count": null,
      "outputs": [
        {
          "output_type": "stream",
          "text": [
            "Model: \"sequential_1\"\n",
            "_________________________________________________________________\n",
            "Layer (type)                 Output Shape              Param #   \n",
            "=================================================================\n",
            "embedding_1 (Embedding)      (None, 100, 20)           200000    \n",
            "_________________________________________________________________\n",
            "global_average_pooling1d_1 ( (None, 20)                0         \n",
            "_________________________________________________________________\n",
            "dense_2 (Dense)              (None, 24)                504       \n",
            "_________________________________________________________________\n",
            "dense_3 (Dense)              (None, 1)                 25        \n",
            "=================================================================\n",
            "Total params: 200,529\n",
            "Trainable params: 200,529\n",
            "Non-trainable params: 0\n",
            "_________________________________________________________________\n"
          ],
          "name": "stdout"
        }
      ]
    },
    {
      "cell_type": "code",
      "metadata": {
        "id": "kGJkw3hh5hqM",
        "outputId": "6d6510b5-51bc-4bef-f111-25e0bd158b9c",
        "colab": {
          "base_uri": "https://localhost:8080/",
          "height": 992
        }
      },
      "source": [
        "num_epochs = 30\n",
        "history = model.fit(training_padded, training_labels, epochs=num_epochs, validation_data=(testing_padded, testing_labels), verbose=2)"
      ],
      "execution_count": null,
      "outputs": [
        {
          "output_type": "stream",
          "text": [
            "Epoch 1/30\n",
            "625/625 - 3s - loss: 0.6642 - accuracy: 0.5875 - val_loss: 0.5747 - val_accuracy: 0.7310\n",
            "Epoch 2/30\n",
            "625/625 - 3s - loss: 0.4305 - accuracy: 0.8320 - val_loss: 0.3823 - val_accuracy: 0.8425\n",
            "Epoch 3/30\n",
            "625/625 - 3s - loss: 0.3091 - accuracy: 0.8774 - val_loss: 0.3504 - val_accuracy: 0.8542\n",
            "Epoch 4/30\n",
            "625/625 - 3s - loss: 0.2562 - accuracy: 0.8998 - val_loss: 0.3489 - val_accuracy: 0.8517\n",
            "Epoch 5/30\n",
            "625/625 - 3s - loss: 0.2224 - accuracy: 0.9128 - val_loss: 0.3497 - val_accuracy: 0.8484\n",
            "Epoch 6/30\n",
            "625/625 - 3s - loss: 0.1934 - accuracy: 0.9271 - val_loss: 0.3528 - val_accuracy: 0.8523\n",
            "Epoch 7/30\n",
            "625/625 - 3s - loss: 0.1718 - accuracy: 0.9355 - val_loss: 0.3668 - val_accuracy: 0.8529\n",
            "Epoch 8/30\n",
            "625/625 - 3s - loss: 0.1539 - accuracy: 0.9431 - val_loss: 0.3885 - val_accuracy: 0.8490\n",
            "Epoch 9/30\n",
            "625/625 - 3s - loss: 0.1384 - accuracy: 0.9508 - val_loss: 0.3976 - val_accuracy: 0.8511\n",
            "Epoch 10/30\n",
            "625/625 - 3s - loss: 0.1252 - accuracy: 0.9552 - val_loss: 0.4248 - val_accuracy: 0.8468\n",
            "Epoch 11/30\n",
            "625/625 - 3s - loss: 0.1132 - accuracy: 0.9609 - val_loss: 0.4444 - val_accuracy: 0.8451\n",
            "Epoch 12/30\n",
            "625/625 - 3s - loss: 0.1022 - accuracy: 0.9653 - val_loss: 0.4659 - val_accuracy: 0.8445\n",
            "Epoch 13/30\n",
            "625/625 - 3s - loss: 0.0937 - accuracy: 0.9681 - val_loss: 0.4995 - val_accuracy: 0.8389\n",
            "Epoch 14/30\n",
            "625/625 - 3s - loss: 0.0854 - accuracy: 0.9729 - val_loss: 0.5263 - val_accuracy: 0.8383\n",
            "Epoch 15/30\n",
            "625/625 - 3s - loss: 0.0767 - accuracy: 0.9758 - val_loss: 0.5866 - val_accuracy: 0.8292\n",
            "Epoch 16/30\n",
            "625/625 - 3s - loss: 0.0716 - accuracy: 0.9765 - val_loss: 0.5983 - val_accuracy: 0.8325\n",
            "Epoch 17/30\n",
            "625/625 - 3s - loss: 0.0661 - accuracy: 0.9786 - val_loss: 0.6101 - val_accuracy: 0.8337\n",
            "Epoch 18/30\n",
            "625/625 - 3s - loss: 0.0593 - accuracy: 0.9819 - val_loss: 0.6602 - val_accuracy: 0.8278\n",
            "Epoch 19/30\n",
            "625/625 - 3s - loss: 0.0548 - accuracy: 0.9823 - val_loss: 0.6788 - val_accuracy: 0.8284\n",
            "Epoch 20/30\n",
            "625/625 - 3s - loss: 0.0509 - accuracy: 0.9844 - val_loss: 0.7155 - val_accuracy: 0.8267\n",
            "Epoch 21/30\n",
            "625/625 - 3s - loss: 0.0463 - accuracy: 0.9860 - val_loss: 0.7479 - val_accuracy: 0.8246\n",
            "Epoch 22/30\n",
            "625/625 - 3s - loss: 0.0415 - accuracy: 0.9880 - val_loss: 0.7895 - val_accuracy: 0.8226\n",
            "Epoch 23/30\n",
            "625/625 - 3s - loss: 0.0387 - accuracy: 0.9890 - val_loss: 0.8369 - val_accuracy: 0.8185\n",
            "Epoch 24/30\n",
            "625/625 - 3s - loss: 0.0347 - accuracy: 0.9906 - val_loss: 0.8703 - val_accuracy: 0.8183\n",
            "Epoch 25/30\n",
            "625/625 - 3s - loss: 0.0328 - accuracy: 0.9905 - val_loss: 0.9040 - val_accuracy: 0.8179\n",
            "Epoch 26/30\n",
            "625/625 - 3s - loss: 0.0322 - accuracy: 0.9902 - val_loss: 0.9707 - val_accuracy: 0.8122\n",
            "Epoch 27/30\n",
            "625/625 - 3s - loss: 0.0294 - accuracy: 0.9909 - val_loss: 0.9763 - val_accuracy: 0.8147\n",
            "Epoch 28/30\n",
            "625/625 - 3s - loss: 0.0247 - accuracy: 0.9931 - val_loss: 1.0284 - val_accuracy: 0.8117\n",
            "Epoch 29/30\n",
            "625/625 - 3s - loss: 0.0233 - accuracy: 0.9937 - val_loss: 1.0683 - val_accuracy: 0.8117\n",
            "Epoch 30/30\n",
            "625/625 - 3s - loss: 0.0226 - accuracy: 0.9936 - val_loss: 1.0938 - val_accuracy: 0.8134\n"
          ],
          "name": "stdout"
        }
      ]
    },
    {
      "cell_type": "code",
      "metadata": {
        "id": "vsjzpM4X5kuh",
        "outputId": "b232d875-c4a4-4999-f0d8-f9e39fbf533e",
        "colab": {
          "base_uri": "https://localhost:8080/",
          "height": 541
        }
      },
      "source": [
        "import matplotlib.pyplot as plt\n",
        "\n",
        "\n",
        "def plot_graphs(history, string):\n",
        "  plt.plot(history.history[string])\n",
        "  plt.plot(history.history['val_'+string])\n",
        "  plt.xlabel(\"Epochs\")\n",
        "  plt.ylabel(string)\n",
        "  plt.legend([string, 'val_'+string])\n",
        "  plt.show()\n",
        "  \n",
        "plot_graphs(history, \"accuracy\")\n",
        "plot_graphs(history, \"loss\")"
      ],
      "execution_count": null,
      "outputs": [
        {
          "output_type": "display_data",
          "data": {
            "image/png": "[encoded data removed]",
            "text/plain": [
              "<Figure size 432x288 with 1 Axes>"
            ]
          },
          "metadata": {
            "tags": [],
            "needs_background": "light"
          }
        },
        {
          "output_type": "display_data",
          "data": {
            "image/png": "[encoded data removed]",
            "text/plain": [
              "<Figure size 432x288 with 1 Axes>"
            ]
          },
          "metadata": {
            "tags": [],
            "needs_background": "light"
          }
        }
      ]
    },
    {
      "cell_type": "code",
      "metadata": {
        "id": "X_GG0boL5nsa",
        "outputId": "96b0580c-02b0-4a04-fec9-b8041b21d48f",
        "colab": {
          "base_uri": "https://localhost:8080/",
          "height": 86
        }
      },
      "source": [
        "reverse_word_index = dict([(value, key) for (key, value) in word_index.items()])\n",
        "\n",
        "def decode_sentence(text):\n",
        "    return ' '.join([reverse_word_index.get(i, '?') for i in text])\n",
        "\n",
        "print(decode_sentence(training_padded[0]))\n",
        "print(training_sentences[2])\n",
        "print(labels[2])"
      ],
      "execution_count": null,
      "outputs": [
        {
          "output_type": "stream",
          "text": [
            "former <OOV> store clerk sues over secret 'black <OOV> for minority shoppers ? ? ? ? ? ? ? ? ? ? ? ? ? ? ? ? ? ? ? ? ? ? ? ? ? ? ? ? ? ? ? ? ? ? ? ? ? ? ? ? ? ? ? ? ? ? ? ? ? ? ? ? ? ? ? ? ? ? ? ? ? ? ? ? ? ? ? ? ? ? ? ? ? ? ? ? ? ? ? ? ? ? ? ? ? ? ? ?\n",
            "mom starting to fear son's web series closest thing she will have to grandchild\n",
            "1\n"
          ],
          "name": "stdout"
        }
      ]
    },
    {
      "cell_type": "code",
      "metadata": {
        "id": "IqWfWWdp5qNJ",
        "outputId": "5871e22d-b1dd-4250-f0d6-94e09b21fb33",
        "colab": {
          "base_uri": "https://localhost:8080/",
          "height": 33
        }
      },
      "source": [
        "e = model.layers[0]\n",
        "weights = e.get_weights()[0]\n",
        "print(weights.shape) # shape: (vocab_size, embedding_dim)"
      ],
      "execution_count": null,
      "outputs": [
        {
          "output_type": "stream",
          "text": [
            "(10000, 20)\n"
          ],
          "name": "stdout"
        }
      ]
    },
    {
      "cell_type": "code",
      "metadata": {
        "id": "c8EQSp-45sn1"
      },
      "source": [
        "import io\n",
        "\n",
        "out_v = io.open('vecs.tsv', 'w', encoding='utf-8')\n",
        "out_m = io.open('meta.tsv', 'w', encoding='utf-8')\n",
        "for word_num in range(1, vocab_size):\n",
        "  word = reverse_word_index[word_num]\n",
        "  embeddings = weights[word_num]\n",
        "  out_m.write(word + \"\\n\")\n",
        "  out_v.write('\\t'.join([str(x) for x in embeddings]) + \"\\n\")\n",
        "out_v.close()\n",
        "out_m.close()"
      ],
      "execution_count": null,
      "outputs": []
    },
    {
      "cell_type": "code",
      "metadata": {
        "id": "8NpUJL7B5xnz",
        "outputId": "ef3873ae-8072-4826-e243-09ef3d2852ff",
        "colab": {
          "base_uri": "https://localhost:8080/",
          "height": 17
        }
      },
      "source": [
        "try:\n",
        "  from google.colab import files\n",
        "except ImportError:\n",
        "  pass\n",
        "else:\n",
        "  files.download('vecs.tsv')#.tsv\n",
        "  files.download('meta.tsv')"
      ],
      "execution_count": null,
      "outputs": [
        {
          "output_type": "display_data",
          "data": {
            "application/javascript": [
              "\n",
              "    async function download(id, filename, size) {\n",
              "      if (!google.colab.kernel.accessAllowed) {\n",
              "        return;\n",
              "      }\n",
              "      const div = document.createElement('div');\n",
              "      const label = document.createElement('label');\n",
              "      label.textContent = `Downloading \"${filename}\": `;\n",
              "      div.appendChild(label);\n",
              "      const progress = document.createElement('progress');\n",
              "      progress.max = size;\n",
              "      div.appendChild(progress);\n",
              "      document.body.appendChild(div);\n",
              "\n",
              "      const buffers = [];\n",
              "      let downloaded = 0;\n",
              "\n",
              "      const channel = await google.colab.kernel.comms.open(id);\n",
              "      // Send a message to notify the kernel that we're ready.\n",
              "      channel.send({})\n",
              "\n",
              "      for await (const message of channel.messages) {\n",
              "        // Send a message to notify the kernel that we're ready.\n",
              "        channel.send({})\n",
              "        if (message.buffers) {\n",
              "          for (const buffer of message.buffers) {\n",
              "            buffers.push(buffer);\n",
              "            downloaded += buffer.byteLength;\n",
              "            progress.value = downloaded;\n",
              "          }\n",
              "        }\n",
              "      }\n",
              "      const blob = new Blob(buffers, {type: 'application/binary'});\n",
              "      const a = document.createElement('a');\n",
              "      a.href = window.URL.createObjectURL(blob);\n",
              "      a.download = filename;\n",
              "      div.appendChild(a);\n",
              "      a.click();\n",
              "      div.remove();\n",
              "    }\n",
              "  "
            ],
            "text/plain": [
              "<IPython.core.display.Javascript object>"
            ]
          },
          "metadata": {
            "tags": []
          }
        },
        {
          "output_type": "display_data",
          "data": {
            "application/javascript": [
              "download(\"download_475a3b8e-96bc-4a5e-b42d-3adc589a914a\", \"vecs.tsv\", 2268861)"
            ],
            "text/plain": [
              "<IPython.core.display.Javascript object>"
            ]
          },
          "metadata": {
            "tags": []
          }
        },
        {
          "output_type": "display_data",
          "data": {
            "application/javascript": [
              "\n",
              "    async function download(id, filename, size) {\n",
              "      if (!google.colab.kernel.accessAllowed) {\n",
              "        return;\n",
              "      }\n",
              "      const div = document.createElement('div');\n",
              "      const label = document.createElement('label');\n",
              "      label.textContent = `Downloading \"${filename}\": `;\n",
              "      div.appendChild(label);\n",
              "      const progress = document.createElement('progress');\n",
              "      progress.max = size;\n",
              "      div.appendChild(progress);\n",
              "      document.body.appendChild(div);\n",
              "\n",
              "      const buffers = [];\n",
              "      let downloaded = 0;\n",
              "\n",
              "      const channel = await google.colab.kernel.comms.open(id);\n",
              "      // Send a message to notify the kernel that we're ready.\n",
              "      channel.send({})\n",
              "\n",
              "      for await (const message of channel.messages) {\n",
              "        // Send a message to notify the kernel that we're ready.\n",
              "        channel.send({})\n",
              "        if (message.buffers) {\n",
              "          for (const buffer of message.buffers) {\n",
              "            buffers.push(buffer);\n",
              "            downloaded += buffer.byteLength;\n",
              "            progress.value = downloaded;\n",
              "          }\n",
              "        }\n",
              "      }\n",
              "      const blob = new Blob(buffers, {type: 'application/binary'});\n",
              "      const a = document.createElement('a');\n",
              "      a.href = window.URL.createObjectURL(blob);\n",
              "      a.download = filename;\n",
              "      div.appendChild(a);\n",
              "      a.click();\n",
              "      div.remove();\n",
              "    }\n",
              "  "
            ],
            "text/plain": [
              "<IPython.core.display.Javascript object>"
            ]
          },
          "metadata": {
            "tags": []
          }
        },
        {
          "output_type": "display_data",
          "data": {
            "application/javascript": [
              "download(\"download_4281aa02-5858-4f1d-92cb-e4a3a758116e\", \"meta.tsv\", 75974)"
            ],
            "text/plain": [
              "<IPython.core.display.Javascript object>"
            ]
          },
          "metadata": {
            "tags": []
          }
        }
      ]
    },
    {
      "cell_type": "code",
      "metadata": {
        "id": "nEQ1m2KJ5zsw",
        "outputId": "5dbe3ce7-736d-43d3-e744-9e640dda224c",
        "colab": {
          "base_uri": "https://localhost:8080/",
          "height": 50
        }
      },
      "source": [
        "sentence = [\"granny starting to fear spiders in the garden might be real\", \"Thousands are homeless and hundreds are killed\"]\n",
        "sequences = tokenizer.texts_to_sequences(sentence)\n",
        "padded = pad_sequences(sequences, maxlen=max_length, padding=padding_type, truncating=trunc_type)\n",
        "print(model.predict(padded))"
      ],
      "execution_count": null,
      "outputs": [
        {
          "output_type": "stream",
          "text": [
            "[[9.4047403e-01]\n",
            " [6.8415693e-06]]\n"
          ],
          "name": "stdout"
        }
      ]
    }
  ]
}